{
  "nbformat": 4,
  "nbformat_minor": 0,
  "metadata": {
    "colab": {
      "name": "Idomsoft-timeseries-data-preprocess.ipynb",
      "provenance": [],
      "collapsed_sections": [],
      "include_colab_link": true
    },
    "kernelspec": {
      "name": "python3",
      "display_name": "Python 3"
    },
    "language_info": {
      "name": "python"
    }
  },
  "cells": [
    {
      "cell_type": "markdown",
      "metadata": {
        "id": "view-in-github",
        "colab_type": "text"
      },
      "source": [
        "<a href=\"https://colab.research.google.com/github/szviri/opencv/blob/master/Idomsoft_timeseries_data_preprocess.ipynb\" target=\"_parent\"><img src=\"https://colab.research.google.com/assets/colab-badge.svg\" alt=\"Open In Colab\"/></a>"
      ]
    },
    {
      "cell_type": "code",
      "metadata": {
        "colab": {
          "base_uri": "https://localhost:8080/"
        },
        "id": "4sByfF-029VE",
        "outputId": "fa5b305f-daba-45fd-94da-b7a5984682aa"
      },
      "source": [
        "!wget http://deeplearningoktatas.hu/downloads/SequentialData/price-history-kraken-XETHZEUR-20170620.csv"
      ],
      "execution_count": null,
      "outputs": [
        {
          "output_type": "stream",
          "text": [
            "--2021-06-02 13:13:27--  http://deeplearningoktatas.hu/downloads/SequentialData/price-history-kraken-XETHZEUR-20170620.csv\n",
            "Resolving deeplearningoktatas.hu (deeplearningoktatas.hu)... 91.227.138.51\n",
            "Connecting to deeplearningoktatas.hu (deeplearningoktatas.hu)|91.227.138.51|:80... connected.\n",
            "HTTP request sent, awaiting response... 301 Moved Permanently\n",
            "Location: https://www.deeplearningoktatas.hu/downloads/SequentialData/price-history-kraken-XETHZEUR-20170620.csv [following]\n",
            "--2021-06-02 13:13:28--  https://www.deeplearningoktatas.hu/downloads/SequentialData/price-history-kraken-XETHZEUR-20170620.csv\n",
            "Resolving www.deeplearningoktatas.hu (www.deeplearningoktatas.hu)... 91.227.138.51\n",
            "Connecting to www.deeplearningoktatas.hu (www.deeplearningoktatas.hu)|91.227.138.51|:443... connected.\n",
            "HTTP request sent, awaiting response... 200 OK\n",
            "Length: 580389 (567K) [text/csv]\n",
            "Saving to: ‘price-history-kraken-XETHZEUR-20170620.csv’\n",
            "\n",
            "price-history-krake 100%[===================>] 566.79K   408KB/s    in 1.4s    \n",
            "\n",
            "2021-06-02 13:13:31 (408 KB/s) - ‘price-history-kraken-XETHZEUR-20170620.csv’ saved [580389/580389]\n",
            "\n"
          ],
          "name": "stdout"
        }
      ]
    },
    {
      "cell_type": "code",
      "metadata": {
        "colab": {
          "base_uri": "https://localhost:8080/"
        },
        "id": "0z0atkiL3L4v",
        "outputId": "ec98a232-4153-4ecd-dec1-bb4e3824d9a7"
      },
      "source": [
        "!ls -l"
      ],
      "execution_count": null,
      "outputs": [
        {
          "output_type": "stream",
          "text": [
            "total 572\n",
            "-rw-r--r-- 1 root root 580389 Nov 28  2019 price-history-kraken-XETHZEUR-20170620.csv\n",
            "drwxr-xr-x 1 root root   4096 May  6 13:44 sample_data\n"
          ],
          "name": "stdout"
        }
      ]
    },
    {
      "cell_type": "code",
      "metadata": {
        "colab": {
          "base_uri": "https://localhost:8080/"
        },
        "id": "E1aR-3Is3Px2",
        "outputId": "e44c30b3-90c5-4166-ad98-8798df45b005"
      },
      "source": [
        "!pip install mpl_finance"
      ],
      "execution_count": null,
      "outputs": [
        {
          "output_type": "stream",
          "text": [
            "Installing collected packages: mpl-finance\n",
            "Successfully installed mpl-finance-0.10.1\n",
            "Requirement already satisfied: mpl_finance in /usr/local/lib/python3.7/dist-packages (0.10.1)\n",
            "Requirement already satisfied: matplotlib in /usr/local/lib/python3.7/dist-packages (from mpl_finance) (3.2.2)\n",
            "Requirement already satisfied: cycler>=0.10 in /usr/local/lib/python3.7/dist-packages (from matplotlib->mpl_finance) (0.10.0)\n",
            "Requirement already satisfied: numpy>=1.11 in /usr/local/lib/python3.7/dist-packages (from matplotlib->mpl_finance) (1.19.5)\n",
            "Requirement already satisfied: python-dateutil>=2.1 in /usr/local/lib/python3.7/dist-packages (from matplotlib->mpl_finance) (2.8.1)\n",
            "Requirement already satisfied: pyparsing!=2.0.4,!=2.1.2,!=2.1.6,>=2.0.1 in /usr/local/lib/python3.7/dist-packages (from matplotlib->mpl_finance) (2.4.7)\n",
            "Requirement already satisfied: kiwisolver>=1.0.1 in /usr/local/lib/python3.7/dist-packages (from matplotlib->mpl_finance) (1.3.1)\n",
            "Requirement already satisfied: six in /usr/local/lib/python3.7/dist-packages (from cycler>=0.10->matplotlib->mpl_finance) (1.15.0)\n"
          ],
          "name": "stdout"
        }
      ]
    },
    {
      "cell_type": "code",
      "metadata": {
        "id": "BRBKbDsF3zy-"
      },
      "source": [
        "import pandas as pd\n",
        "import numpy as np\n",
        "import time\n",
        "import glob\n",
        "import datetime\n",
        "from time import gmtime, strftime\n",
        "import matplotlib.pyplot as plt\n",
        "import seaborn as sns\n",
        "from mpl_finance import candlestick_ohlc"
      ],
      "execution_count": null,
      "outputs": []
    },
    {
      "cell_type": "code",
      "metadata": {
        "id": "bTn0zoOD4NB7"
      },
      "source": [
        "current_date = str(strftime(\"%Y%m%d%H%M\", gmtime()))"
      ],
      "execution_count": null,
      "outputs": []
    },
    {
      "cell_type": "code",
      "metadata": {
        "colab": {
          "base_uri": "https://localhost:8080/",
          "height": 35
        },
        "id": "zLH3c45a4Yrz",
        "outputId": "37006b76-d611-48c5-ecf2-8400074a08c4"
      },
      "source": [
        "current_date"
      ],
      "execution_count": null,
      "outputs": [
        {
          "output_type": "execute_result",
          "data": {
            "application/vnd.google.colaboratory.intrinsic+json": {
              "type": "string"
            },
            "text/plain": [
              "'202106021318'"
            ]
          },
          "metadata": {
            "tags": []
          },
          "execution_count": 10
        }
      ]
    },
    {
      "cell_type": "code",
      "metadata": {
        "id": "WQnTW3X54aYb"
      },
      "source": [
        "allFiles = glob.glob(\"price-history-kraken*.csv\")\n",
        "list_=[] #[None]*listahossza\n",
        "\n",
        "def dateparse(time_in_secs):\n",
        "  return datetime.datetime.fromtimestamp(float(time_in_secs))\n",
        "\n",
        "for csvfile in allFiles:\n",
        "  df = pd.read_csv(csvfile, sep=',', names=['price', 'volume', 'Date Time', 'BuySell', 'MarketLimit'],\n",
        "                   index_col=False, parse_dates=[\"Date Time\"], date_parser=dateparse)\n",
        "  df = df.set_index([\"Date Time\"])\n",
        "  list_.append(df) \n",
        "\n",
        "result = pd.concat(list_) # osszefuzi a df-eket\n",
        "result = result.sort_index() # idosorba rendezi"
      ],
      "execution_count": null,
      "outputs": []
    },
    {
      "cell_type": "code",
      "metadata": {
        "colab": {
          "base_uri": "https://localhost:8080/",
          "height": 225
        },
        "id": "HeMf8k2d5cUV",
        "outputId": "1b3b4e80-7156-481d-cdf5-bb8d57bb9ee3"
      },
      "source": [
        "result.head()"
      ],
      "execution_count": null,
      "outputs": [
        {
          "output_type": "execute_result",
          "data": {
            "text/html": [
              "<div>\n",
              "<style scoped>\n",
              "    .dataframe tbody tr th:only-of-type {\n",
              "        vertical-align: middle;\n",
              "    }\n",
              "\n",
              "    .dataframe tbody tr th {\n",
              "        vertical-align: top;\n",
              "    }\n",
              "\n",
              "    .dataframe thead th {\n",
              "        text-align: right;\n",
              "    }\n",
              "</style>\n",
              "<table border=\"1\" class=\"dataframe\">\n",
              "  <thead>\n",
              "    <tr style=\"text-align: right;\">\n",
              "      <th></th>\n",
              "      <th>price</th>\n",
              "      <th>volume</th>\n",
              "      <th>BuySell</th>\n",
              "      <th>MarketLimit</th>\n",
              "    </tr>\n",
              "    <tr>\n",
              "      <th>Date Time</th>\n",
              "      <th></th>\n",
              "      <th></th>\n",
              "      <th></th>\n",
              "      <th></th>\n",
              "    </tr>\n",
              "  </thead>\n",
              "  <tbody>\n",
              "    <tr>\n",
              "      <th>2017-06-19 14:26:19.526500</th>\n",
              "      <td>316.38354</td>\n",
              "      <td>0.249235</td>\n",
              "      <td>b</td>\n",
              "      <td>m</td>\n",
              "    </tr>\n",
              "    <tr>\n",
              "      <th>2017-06-19 14:26:32.288200</th>\n",
              "      <td>316.49999</td>\n",
              "      <td>0.249235</td>\n",
              "      <td>b</td>\n",
              "      <td>m</td>\n",
              "    </tr>\n",
              "    <tr>\n",
              "      <th>2017-06-19 14:26:32.303400</th>\n",
              "      <td>316.50000</td>\n",
              "      <td>5.126265</td>\n",
              "      <td>b</td>\n",
              "      <td>m</td>\n",
              "    </tr>\n",
              "    <tr>\n",
              "      <th>2017-06-19 14:26:35.738500</th>\n",
              "      <td>316.38354</td>\n",
              "      <td>0.175200</td>\n",
              "      <td>s</td>\n",
              "      <td>m</td>\n",
              "    </tr>\n",
              "    <tr>\n",
              "      <th>2017-06-19 14:26:35.753100</th>\n",
              "      <td>316.24015</td>\n",
              "      <td>20.000000</td>\n",
              "      <td>s</td>\n",
              "      <td>m</td>\n",
              "    </tr>\n",
              "  </tbody>\n",
              "</table>\n",
              "</div>"
            ],
            "text/plain": [
              "                                price     volume BuySell MarketLimit\n",
              "Date Time                                                           \n",
              "2017-06-19 14:26:19.526500  316.38354   0.249235       b           m\n",
              "2017-06-19 14:26:32.288200  316.49999   0.249235       b           m\n",
              "2017-06-19 14:26:32.303400  316.50000   5.126265       b           m\n",
              "2017-06-19 14:26:35.738500  316.38354   0.175200       s           m\n",
              "2017-06-19 14:26:35.753100  316.24015  20.000000       s           m"
            ]
          },
          "metadata": {
            "tags": []
          },
          "execution_count": 16
        }
      ]
    },
    {
      "cell_type": "code",
      "metadata": {
        "colab": {
          "base_uri": "https://localhost:8080/"
        },
        "id": "kcoayf2d5lau",
        "outputId": "a7ea6b03-eac5-4f76-ab2e-9692478c1679"
      },
      "source": [
        "len(result)"
      ],
      "execution_count": null,
      "outputs": [
        {
          "output_type": "execute_result",
          "data": {
            "text/plain": [
              "13503"
            ]
          },
          "metadata": {
            "tags": []
          },
          "execution_count": 17
        }
      ]
    },
    {
      "cell_type": "code",
      "metadata": {
        "id": "_FAPrabr5t7m"
      },
      "source": [
        "result_violin = result.copy()"
      ],
      "execution_count": null,
      "outputs": []
    },
    {
      "cell_type": "code",
      "metadata": {
        "id": "EJy7R4cG5x80"
      },
      "source": [
        "result_violin['Day'] = result_violin.index.day\n",
        "result_violin['Hour'] = result_violin.index.hour\n",
        "result_violin['DayHour'] = result_violin.apply(lambda x: str(int(x['Day']))+str(int(x['Hour'])), 1)\n"
      ],
      "execution_count": null,
      "outputs": []
    },
    {
      "cell_type": "code",
      "metadata": {
        "colab": {
          "base_uri": "https://localhost:8080/",
          "height": 225
        },
        "id": "6cHgjW9n6LST",
        "outputId": "0a3ccc30-e888-4807-8baf-2dc0834a2c68"
      },
      "source": [
        "result_violin.head()"
      ],
      "execution_count": null,
      "outputs": [
        {
          "output_type": "execute_result",
          "data": {
            "text/html": [
              "<div>\n",
              "<style scoped>\n",
              "    .dataframe tbody tr th:only-of-type {\n",
              "        vertical-align: middle;\n",
              "    }\n",
              "\n",
              "    .dataframe tbody tr th {\n",
              "        vertical-align: top;\n",
              "    }\n",
              "\n",
              "    .dataframe thead th {\n",
              "        text-align: right;\n",
              "    }\n",
              "</style>\n",
              "<table border=\"1\" class=\"dataframe\">\n",
              "  <thead>\n",
              "    <tr style=\"text-align: right;\">\n",
              "      <th></th>\n",
              "      <th>price</th>\n",
              "      <th>volume</th>\n",
              "      <th>BuySell</th>\n",
              "      <th>MarketLimit</th>\n",
              "      <th>Day</th>\n",
              "      <th>Hour</th>\n",
              "      <th>DayHour</th>\n",
              "    </tr>\n",
              "    <tr>\n",
              "      <th>Date Time</th>\n",
              "      <th></th>\n",
              "      <th></th>\n",
              "      <th></th>\n",
              "      <th></th>\n",
              "      <th></th>\n",
              "      <th></th>\n",
              "      <th></th>\n",
              "    </tr>\n",
              "  </thead>\n",
              "  <tbody>\n",
              "    <tr>\n",
              "      <th>2017-06-19 14:26:19.526500</th>\n",
              "      <td>316.38354</td>\n",
              "      <td>0.249235</td>\n",
              "      <td>b</td>\n",
              "      <td>m</td>\n",
              "      <td>19</td>\n",
              "      <td>14</td>\n",
              "      <td>1914</td>\n",
              "    </tr>\n",
              "    <tr>\n",
              "      <th>2017-06-19 14:26:32.288200</th>\n",
              "      <td>316.49999</td>\n",
              "      <td>0.249235</td>\n",
              "      <td>b</td>\n",
              "      <td>m</td>\n",
              "      <td>19</td>\n",
              "      <td>14</td>\n",
              "      <td>1914</td>\n",
              "    </tr>\n",
              "    <tr>\n",
              "      <th>2017-06-19 14:26:32.303400</th>\n",
              "      <td>316.50000</td>\n",
              "      <td>5.126265</td>\n",
              "      <td>b</td>\n",
              "      <td>m</td>\n",
              "      <td>19</td>\n",
              "      <td>14</td>\n",
              "      <td>1914</td>\n",
              "    </tr>\n",
              "    <tr>\n",
              "      <th>2017-06-19 14:26:35.738500</th>\n",
              "      <td>316.38354</td>\n",
              "      <td>0.175200</td>\n",
              "      <td>s</td>\n",
              "      <td>m</td>\n",
              "      <td>19</td>\n",
              "      <td>14</td>\n",
              "      <td>1914</td>\n",
              "    </tr>\n",
              "    <tr>\n",
              "      <th>2017-06-19 14:26:35.753100</th>\n",
              "      <td>316.24015</td>\n",
              "      <td>20.000000</td>\n",
              "      <td>s</td>\n",
              "      <td>m</td>\n",
              "      <td>19</td>\n",
              "      <td>14</td>\n",
              "      <td>1914</td>\n",
              "    </tr>\n",
              "  </tbody>\n",
              "</table>\n",
              "</div>"
            ],
            "text/plain": [
              "                                price     volume BuySell  ... Day  Hour  DayHour\n",
              "Date Time                                                 ...                   \n",
              "2017-06-19 14:26:19.526500  316.38354   0.249235       b  ...  19    14     1914\n",
              "2017-06-19 14:26:32.288200  316.49999   0.249235       b  ...  19    14     1914\n",
              "2017-06-19 14:26:32.303400  316.50000   5.126265       b  ...  19    14     1914\n",
              "2017-06-19 14:26:35.738500  316.38354   0.175200       s  ...  19    14     1914\n",
              "2017-06-19 14:26:35.753100  316.24015  20.000000       s  ...  19    14     1914\n",
              "\n",
              "[5 rows x 7 columns]"
            ]
          },
          "metadata": {
            "tags": []
          },
          "execution_count": 21
        }
      ]
    },
    {
      "cell_type": "code",
      "metadata": {
        "colab": {
          "base_uri": "https://localhost:8080/",
          "height": 514
        },
        "id": "pgPsXhwD6QID",
        "outputId": "09317970-2a90-4fed-a079-ee17ca944ad7"
      },
      "source": [
        "plt.figure(figsize=(16,8))\n",
        "sns.violinplot(x=\"DayHour\", y=\"price\", data=result_violin, hue='BuySell', split=True)"
      ],
      "execution_count": null,
      "outputs": [
        {
          "output_type": "execute_result",
          "data": {
            "text/plain": [
              "<matplotlib.axes._subplots.AxesSubplot at 0x7f7e252b7dd0>"
            ]
          },
          "metadata": {
            "tags": []
          },
          "execution_count": 29
        },
        {
          "output_type": "display_data",
          "data": {
            "image/png": "[encoded data removed]",
            "text/plain": [
              "<Figure size 1152x576 with 1 Axes>"
            ]
          },
          "metadata": {
            "tags": [],
            "needs_background": "light"
          }
        }
      ]
    },
    {
      "cell_type": "code",
      "metadata": {
        "id": "QUmizBvV68HF"
      },
      "source": [
        ""
      ],
      "execution_count": null,
      "outputs": []
    },
    {
      "cell_type": "code",
      "metadata": {
        "colab": {
          "base_uri": "https://localhost:8080/",
          "height": 352
        },
        "id": "hcC4JUF96dKr",
        "outputId": "421deb4d-7ee4-4a3d-cfb8-90f3e1fb4657"
      },
      "source": [
        "sns.distplot(result_violin[result_violin['DayHour']==\"203\"].price, bins=20)"
      ],
      "execution_count": null,
      "outputs": [
        {
          "output_type": "stream",
          "text": [
            "/usr/local/lib/python3.7/dist-packages/seaborn/distributions.py:2557: FutureWarning: `distplot` is a deprecated function and will be removed in a future version. Please adapt your code to use either `displot` (a figure-level function with similar flexibility) or `histplot` (an axes-level function for histograms).\n",
            "  warnings.warn(msg, FutureWarning)\n"
          ],
          "name": "stderr"
        },
        {
          "output_type": "execute_result",
          "data": {
            "text/plain": [
              "<matplotlib.axes._subplots.AxesSubplot at 0x7f7e292e39d0>"
            ]
          },
          "metadata": {
            "tags": []
          },
          "execution_count": 30
        },
        {
          "output_type": "display_data",
          "data": {
            "image/png": "[encoded data removed]",
            "text/plain": [
              "<Figure size 432x288 with 1 Axes>"
            ]
          },
          "metadata": {
            "tags": [],
            "needs_background": "light"
          }
        }
      ]
    },
    {
      "cell_type": "code",
      "metadata": {
        "id": "RY4mL4vw6tlz"
      },
      "source": [
        "timeframe=\"1min\"\n",
        "result_p = result[\"price\"].resample(timeframe).ohlc()\n",
        "\n",
        "#result_o = result[\"price\"].resample(timeframe).first()\n",
        "#result_h = result[\"price\"].resample(timeframe).max()\n",
        "#result_l = result[\"price\"].resample(timeframe).min()\n",
        "#result_c = result[\"price\"].resample(timeframe).last()\n",
        "\n"
      ],
      "execution_count": null,
      "outputs": []
    },
    {
      "cell_type": "code",
      "metadata": {
        "colab": {
          "base_uri": "https://localhost:8080/",
          "height": 431
        },
        "id": "obQWi2Xw7x9M",
        "outputId": "0841a3e5-f7d3-4281-81bf-a37445978f11"
      },
      "source": [
        "result_p"
      ],
      "execution_count": null,
      "outputs": [
        {
          "output_type": "execute_result",
          "data": {
            "text/html": [
              "<div>\n",
              "<style scoped>\n",
              "    .dataframe tbody tr th:only-of-type {\n",
              "        vertical-align: middle;\n",
              "    }\n",
              "\n",
              "    .dataframe tbody tr th {\n",
              "        vertical-align: top;\n",
              "    }\n",
              "\n",
              "    .dataframe thead th {\n",
              "        text-align: right;\n",
              "    }\n",
              "</style>\n",
              "<table border=\"1\" class=\"dataframe\">\n",
              "  <thead>\n",
              "    <tr style=\"text-align: right;\">\n",
              "      <th></th>\n",
              "      <th>open</th>\n",
              "      <th>high</th>\n",
              "      <th>low</th>\n",
              "      <th>close</th>\n",
              "    </tr>\n",
              "    <tr>\n",
              "      <th>Date Time</th>\n",
              "      <th></th>\n",
              "      <th></th>\n",
              "      <th></th>\n",
              "      <th></th>\n",
              "    </tr>\n",
              "  </thead>\n",
              "  <tbody>\n",
              "    <tr>\n",
              "      <th>2017-06-19 14:26:00</th>\n",
              "      <td>316.38354</td>\n",
              "      <td>316.50000</td>\n",
              "      <td>316.24010</td>\n",
              "      <td>316.49998</td>\n",
              "    </tr>\n",
              "    <tr>\n",
              "      <th>2017-06-19 14:27:00</th>\n",
              "      <td>316.38354</td>\n",
              "      <td>316.49987</td>\n",
              "      <td>316.20000</td>\n",
              "      <td>316.20000</td>\n",
              "    </tr>\n",
              "    <tr>\n",
              "      <th>2017-06-19 14:28:00</th>\n",
              "      <td>316.49986</td>\n",
              "      <td>316.50000</td>\n",
              "      <td>315.43325</td>\n",
              "      <td>316.20002</td>\n",
              "    </tr>\n",
              "    <tr>\n",
              "      <th>2017-06-19 14:29:00</th>\n",
              "      <td>316.20000</td>\n",
              "      <td>316.48000</td>\n",
              "      <td>315.43336</td>\n",
              "      <td>315.50001</td>\n",
              "    </tr>\n",
              "    <tr>\n",
              "      <th>2017-06-19 14:30:00</th>\n",
              "      <td>315.50020</td>\n",
              "      <td>316.20000</td>\n",
              "      <td>315.50000</td>\n",
              "      <td>315.50000</td>\n",
              "    </tr>\n",
              "    <tr>\n",
              "      <th>...</th>\n",
              "      <td>...</td>\n",
              "      <td>...</td>\n",
              "      <td>...</td>\n",
              "      <td>...</td>\n",
              "    </tr>\n",
              "    <tr>\n",
              "      <th>2017-06-20 08:32:00</th>\n",
              "      <td>322.60002</td>\n",
              "      <td>322.91974</td>\n",
              "      <td>322.60002</td>\n",
              "      <td>322.91974</td>\n",
              "    </tr>\n",
              "    <tr>\n",
              "      <th>2017-06-20 08:33:00</th>\n",
              "      <td>322.91974</td>\n",
              "      <td>322.92300</td>\n",
              "      <td>322.91974</td>\n",
              "      <td>322.92299</td>\n",
              "    </tr>\n",
              "    <tr>\n",
              "      <th>2017-06-20 08:34:00</th>\n",
              "      <td>322.92298</td>\n",
              "      <td>323.32717</td>\n",
              "      <td>322.92298</td>\n",
              "      <td>323.00000</td>\n",
              "    </tr>\n",
              "    <tr>\n",
              "      <th>2017-06-20 08:35:00</th>\n",
              "      <td>323.32726</td>\n",
              "      <td>323.32726</td>\n",
              "      <td>323.00000</td>\n",
              "      <td>323.32725</td>\n",
              "    </tr>\n",
              "    <tr>\n",
              "      <th>2017-06-20 08:36:00</th>\n",
              "      <td>323.32030</td>\n",
              "      <td>323.32723</td>\n",
              "      <td>323.00333</td>\n",
              "      <td>323.00657</td>\n",
              "    </tr>\n",
              "  </tbody>\n",
              "</table>\n",
              "<p>1091 rows × 4 columns</p>\n",
              "</div>"
            ],
            "text/plain": [
              "                          open       high        low      close\n",
              "Date Time                                                      \n",
              "2017-06-19 14:26:00  316.38354  316.50000  316.24010  316.49998\n",
              "2017-06-19 14:27:00  316.38354  316.49987  316.20000  316.20000\n",
              "2017-06-19 14:28:00  316.49986  316.50000  315.43325  316.20002\n",
              "2017-06-19 14:29:00  316.20000  316.48000  315.43336  315.50001\n",
              "2017-06-19 14:30:00  315.50020  316.20000  315.50000  315.50000\n",
              "...                        ...        ...        ...        ...\n",
              "2017-06-20 08:32:00  322.60002  322.91974  322.60002  322.91974\n",
              "2017-06-20 08:33:00  322.91974  322.92300  322.91974  322.92299\n",
              "2017-06-20 08:34:00  322.92298  323.32717  322.92298  323.00000\n",
              "2017-06-20 08:35:00  323.32726  323.32726  323.00000  323.32725\n",
              "2017-06-20 08:36:00  323.32030  323.32723  323.00333  323.00657\n",
              "\n",
              "[1091 rows x 4 columns]"
            ]
          },
          "metadata": {
            "tags": []
          },
          "execution_count": 86
        }
      ]
    },
    {
      "cell_type": "code",
      "metadata": {
        "id": "-qf3LApz7ypV"
      },
      "source": [
        "result_v = result[\"volume\"].resample(timeframe).sum()"
      ],
      "execution_count": null,
      "outputs": []
    },
    {
      "cell_type": "code",
      "metadata": {
        "colab": {
          "base_uri": "https://localhost:8080/"
        },
        "id": "SJ07VC5Q7_mj",
        "outputId": "7185cdf5-94be-4a56-caee-846bc1c0b485"
      },
      "source": [
        "result_v"
      ],
      "execution_count": null,
      "outputs": [
        {
          "output_type": "execute_result",
          "data": {
            "text/plain": [
              "Date Time\n",
              "2017-06-19 14:26:00     40.906281\n",
              "2017-06-19 14:27:00     11.982467\n",
              "2017-06-19 14:28:00     43.938496\n",
              "2017-06-19 14:29:00     32.944811\n",
              "2017-06-19 14:30:00     70.665895\n",
              "                          ...    \n",
              "2017-06-20 08:32:00     13.289151\n",
              "2017-06-20 08:33:00    138.149132\n",
              "2017-06-20 08:34:00    283.004230\n",
              "2017-06-20 08:35:00     82.201274\n",
              "2017-06-20 08:36:00      8.221425\n",
              "Freq: T, Name: volume, Length: 1091, dtype: float64"
            ]
          },
          "metadata": {
            "tags": []
          },
          "execution_count": 88
        }
      ]
    },
    {
      "cell_type": "code",
      "metadata": {
        "colab": {
          "base_uri": "https://localhost:8080/"
        },
        "id": "U1qhTJON8U20",
        "outputId": "5b299706-1c31-4e49-980f-159a15dcbd3d"
      },
      "source": [
        "len(result_v)"
      ],
      "execution_count": null,
      "outputs": [
        {
          "output_type": "execute_result",
          "data": {
            "text/plain": [
              "1091"
            ]
          },
          "metadata": {
            "tags": []
          },
          "execution_count": 89
        }
      ]
    },
    {
      "cell_type": "code",
      "metadata": {
        "colab": {
          "base_uri": "https://localhost:8080/"
        },
        "id": "liRd5_kU8AVU",
        "outputId": "dda9ad35-1f95-4e74-d202-2aa3850a1f9f"
      },
      "source": [
        "result_p.isnull().any(axis=1).sum()"
      ],
      "execution_count": null,
      "outputs": [
        {
          "output_type": "execute_result",
          "data": {
            "text/plain": [
              "22"
            ]
          },
          "metadata": {
            "tags": []
          },
          "execution_count": 90
        }
      ]
    },
    {
      "cell_type": "code",
      "metadata": {
        "id": "PpS8doqx8GzD"
      },
      "source": [
        "result_p = result_p.ffill()"
      ],
      "execution_count": null,
      "outputs": []
    },
    {
      "cell_type": "code",
      "metadata": {
        "colab": {
          "base_uri": "https://localhost:8080/",
          "height": 431
        },
        "id": "1HJQrbB88qz1",
        "outputId": "b281fe4c-a3bc-47d2-d4ca-b131b03affc1"
      },
      "source": [
        "result_p"
      ],
      "execution_count": null,
      "outputs": [
        {
          "output_type": "execute_result",
          "data": {
            "text/html": [
              "<div>\n",
              "<style scoped>\n",
              "    .dataframe tbody tr th:only-of-type {\n",
              "        vertical-align: middle;\n",
              "    }\n",
              "\n",
              "    .dataframe tbody tr th {\n",
              "        vertical-align: top;\n",
              "    }\n",
              "\n",
              "    .dataframe thead th {\n",
              "        text-align: right;\n",
              "    }\n",
              "</style>\n",
              "<table border=\"1\" class=\"dataframe\">\n",
              "  <thead>\n",
              "    <tr style=\"text-align: right;\">\n",
              "      <th></th>\n",
              "      <th>open</th>\n",
              "      <th>high</th>\n",
              "      <th>low</th>\n",
              "      <th>close</th>\n",
              "    </tr>\n",
              "    <tr>\n",
              "      <th>Date Time</th>\n",
              "      <th></th>\n",
              "      <th></th>\n",
              "      <th></th>\n",
              "      <th></th>\n",
              "    </tr>\n",
              "  </thead>\n",
              "  <tbody>\n",
              "    <tr>\n",
              "      <th>2017-06-19 14:26:00</th>\n",
              "      <td>316.38354</td>\n",
              "      <td>316.50000</td>\n",
              "      <td>316.24010</td>\n",
              "      <td>316.49998</td>\n",
              "    </tr>\n",
              "    <tr>\n",
              "      <th>2017-06-19 14:27:00</th>\n",
              "      <td>316.38354</td>\n",
              "      <td>316.49987</td>\n",
              "      <td>316.20000</td>\n",
              "      <td>316.20000</td>\n",
              "    </tr>\n",
              "    <tr>\n",
              "      <th>2017-06-19 14:28:00</th>\n",
              "      <td>316.49986</td>\n",
              "      <td>316.50000</td>\n",
              "      <td>315.43325</td>\n",
              "      <td>316.20002</td>\n",
              "    </tr>\n",
              "    <tr>\n",
              "      <th>2017-06-19 14:29:00</th>\n",
              "      <td>316.20000</td>\n",
              "      <td>316.48000</td>\n",
              "      <td>315.43336</td>\n",
              "      <td>315.50001</td>\n",
              "    </tr>\n",
              "    <tr>\n",
              "      <th>2017-06-19 14:30:00</th>\n",
              "      <td>315.50020</td>\n",
              "      <td>316.20000</td>\n",
              "      <td>315.50000</td>\n",
              "      <td>315.50000</td>\n",
              "    </tr>\n",
              "    <tr>\n",
              "      <th>...</th>\n",
              "      <td>...</td>\n",
              "      <td>...</td>\n",
              "      <td>...</td>\n",
              "      <td>...</td>\n",
              "    </tr>\n",
              "    <tr>\n",
              "      <th>2017-06-20 08:32:00</th>\n",
              "      <td>322.60002</td>\n",
              "      <td>322.91974</td>\n",
              "      <td>322.60002</td>\n",
              "      <td>322.91974</td>\n",
              "    </tr>\n",
              "    <tr>\n",
              "      <th>2017-06-20 08:33:00</th>\n",
              "      <td>322.91974</td>\n",
              "      <td>322.92300</td>\n",
              "      <td>322.91974</td>\n",
              "      <td>322.92299</td>\n",
              "    </tr>\n",
              "    <tr>\n",
              "      <th>2017-06-20 08:34:00</th>\n",
              "      <td>322.92298</td>\n",
              "      <td>323.32717</td>\n",
              "      <td>322.92298</td>\n",
              "      <td>323.00000</td>\n",
              "    </tr>\n",
              "    <tr>\n",
              "      <th>2017-06-20 08:35:00</th>\n",
              "      <td>323.32726</td>\n",
              "      <td>323.32726</td>\n",
              "      <td>323.00000</td>\n",
              "      <td>323.32725</td>\n",
              "    </tr>\n",
              "    <tr>\n",
              "      <th>2017-06-20 08:36:00</th>\n",
              "      <td>323.32030</td>\n",
              "      <td>323.32723</td>\n",
              "      <td>323.00333</td>\n",
              "      <td>323.00657</td>\n",
              "    </tr>\n",
              "  </tbody>\n",
              "</table>\n",
              "<p>1091 rows × 4 columns</p>\n",
              "</div>"
            ],
            "text/plain": [
              "                          open       high        low      close\n",
              "Date Time                                                      \n",
              "2017-06-19 14:26:00  316.38354  316.50000  316.24010  316.49998\n",
              "2017-06-19 14:27:00  316.38354  316.49987  316.20000  316.20000\n",
              "2017-06-19 14:28:00  316.49986  316.50000  315.43325  316.20002\n",
              "2017-06-19 14:29:00  316.20000  316.48000  315.43336  315.50001\n",
              "2017-06-19 14:30:00  315.50020  316.20000  315.50000  315.50000\n",
              "...                        ...        ...        ...        ...\n",
              "2017-06-20 08:32:00  322.60002  322.91974  322.60002  322.91974\n",
              "2017-06-20 08:33:00  322.91974  322.92300  322.91974  322.92299\n",
              "2017-06-20 08:34:00  322.92298  323.32717  322.92298  323.00000\n",
              "2017-06-20 08:35:00  323.32726  323.32726  323.00000  323.32725\n",
              "2017-06-20 08:36:00  323.32030  323.32723  323.00333  323.00657\n",
              "\n",
              "[1091 rows x 4 columns]"
            ]
          },
          "metadata": {
            "tags": []
          },
          "execution_count": 92
        }
      ]
    },
    {
      "cell_type": "code",
      "metadata": {
        "id": "-Tg0Dcnd8r87"
      },
      "source": [
        "result_ohlcv = result_p.join(result_v)"
      ],
      "execution_count": null,
      "outputs": []
    },
    {
      "cell_type": "code",
      "metadata": {
        "colab": {
          "base_uri": "https://localhost:8080/",
          "height": 225
        },
        "id": "B3sKbOv381Cs",
        "outputId": "0a0a2e66-732a-488c-e18c-551f51ead5bd"
      },
      "source": [
        "result_ohlcv.head()"
      ],
      "execution_count": null,
      "outputs": [
        {
          "output_type": "execute_result",
          "data": {
            "text/html": [
              "<div>\n",
              "<style scoped>\n",
              "    .dataframe tbody tr th:only-of-type {\n",
              "        vertical-align: middle;\n",
              "    }\n",
              "\n",
              "    .dataframe tbody tr th {\n",
              "        vertical-align: top;\n",
              "    }\n",
              "\n",
              "    .dataframe thead th {\n",
              "        text-align: right;\n",
              "    }\n",
              "</style>\n",
              "<table border=\"1\" class=\"dataframe\">\n",
              "  <thead>\n",
              "    <tr style=\"text-align: right;\">\n",
              "      <th></th>\n",
              "      <th>open</th>\n",
              "      <th>high</th>\n",
              "      <th>low</th>\n",
              "      <th>close</th>\n",
              "      <th>volume</th>\n",
              "    </tr>\n",
              "    <tr>\n",
              "      <th>Date Time</th>\n",
              "      <th></th>\n",
              "      <th></th>\n",
              "      <th></th>\n",
              "      <th></th>\n",
              "      <th></th>\n",
              "    </tr>\n",
              "  </thead>\n",
              "  <tbody>\n",
              "    <tr>\n",
              "      <th>2017-06-19 14:26:00</th>\n",
              "      <td>316.38354</td>\n",
              "      <td>316.50000</td>\n",
              "      <td>316.24010</td>\n",
              "      <td>316.49998</td>\n",
              "      <td>40.906281</td>\n",
              "    </tr>\n",
              "    <tr>\n",
              "      <th>2017-06-19 14:27:00</th>\n",
              "      <td>316.38354</td>\n",
              "      <td>316.49987</td>\n",
              "      <td>316.20000</td>\n",
              "      <td>316.20000</td>\n",
              "      <td>11.982467</td>\n",
              "    </tr>\n",
              "    <tr>\n",
              "      <th>2017-06-19 14:28:00</th>\n",
              "      <td>316.49986</td>\n",
              "      <td>316.50000</td>\n",
              "      <td>315.43325</td>\n",
              "      <td>316.20002</td>\n",
              "      <td>43.938496</td>\n",
              "    </tr>\n",
              "    <tr>\n",
              "      <th>2017-06-19 14:29:00</th>\n",
              "      <td>316.20000</td>\n",
              "      <td>316.48000</td>\n",
              "      <td>315.43336</td>\n",
              "      <td>315.50001</td>\n",
              "      <td>32.944811</td>\n",
              "    </tr>\n",
              "    <tr>\n",
              "      <th>2017-06-19 14:30:00</th>\n",
              "      <td>315.50020</td>\n",
              "      <td>316.20000</td>\n",
              "      <td>315.50000</td>\n",
              "      <td>315.50000</td>\n",
              "      <td>70.665895</td>\n",
              "    </tr>\n",
              "  </tbody>\n",
              "</table>\n",
              "</div>"
            ],
            "text/plain": [
              "                          open       high        low      close     volume\n",
              "Date Time                                                                 \n",
              "2017-06-19 14:26:00  316.38354  316.50000  316.24010  316.49998  40.906281\n",
              "2017-06-19 14:27:00  316.38354  316.49987  316.20000  316.20000  11.982467\n",
              "2017-06-19 14:28:00  316.49986  316.50000  315.43325  316.20002  43.938496\n",
              "2017-06-19 14:29:00  316.20000  316.48000  315.43336  315.50001  32.944811\n",
              "2017-06-19 14:30:00  315.50020  316.20000  315.50000  315.50000  70.665895"
            ]
          },
          "metadata": {
            "tags": []
          },
          "execution_count": 94
        }
      ]
    },
    {
      "cell_type": "code",
      "metadata": {
        "colab": {
          "base_uri": "https://localhost:8080/",
          "height": 514
        },
        "id": "RM5vO5R-83nL",
        "outputId": "a40a60c3-6b83-4ee0-ec00-ec304845cbe8"
      },
      "source": [
        "import matplotlib.dates as mdates\n",
        "result_ohlc_plot = result_ohlcv[['open','high','low','close']].reset_index()\n",
        "result_ohlc_plot[\"Date Time\"]=result_ohlc_plot[\"Date Time\"].map(mdates.date2num)\n",
        "result_ohlc_plot.head()\n",
        "\n",
        "fig = plt.figure(figsize=(16,8))\n",
        "ax1 = plt.subplot2grid((6,1), (0,0), rowspan=6, colspan=1)\n",
        "width = 1./(24*60)*5  # a gyertyák 5 perc szélesek lesznek\n",
        "\n",
        "candlestick_ohlc(ax1,result_ohlc_plot.values,width=width, colorup='g', colordown='k',alpha=0.75)\n",
        "ax1.xaxis_date()\n",
        "ax1.xaxis.set_major_formatter(mdates.DateFormatter('%Y-%m-%d %H:%M'))\n",
        "ax1.xaxis.set_major_locator(mdates.HourLocator(byhour=[0,12]))\n",
        "fig.autofmt_xdate()\n",
        "ax1.grid(True)\n",
        "\n",
        "plt.xlabel(\"Date\")\n",
        "plt.ylabel(\"Price\")\n",
        "plt.legend()\n",
        "plt.show()"
      ],
      "execution_count": null,
      "outputs": [
        {
          "output_type": "stream",
          "text": [
            "No handles with labels found to put in legend.\n"
          ],
          "name": "stderr"
        },
        {
          "output_type": "display_data",
          "data": {
            "image/png": "[encoded data removed]",
            "text/plain": [
              "<Figure size 1152x576 with 1 Axes>"
            ]
          },
          "metadata": {
            "tags": [],
            "needs_background": "light"
          }
        }
      ]
    },
    {
      "cell_type": "code",
      "metadata": {
        "id": "Fn1fQ2gd9Cp8"
      },
      "source": [
        "result_ohlcv.to_hdf(\"resampled.hdf5\", key=\"data\")"
      ],
      "execution_count": null,
      "outputs": []
    },
    {
      "cell_type": "code",
      "metadata": {
        "colab": {
          "base_uri": "https://localhost:8080/"
        },
        "id": "stJmKwwK-iMD",
        "outputId": "db98536f-8c4e-4b02-b327-32f49f218409"
      },
      "source": [
        "np.log(result_ohlcv['open'].values)-np.log(result_ohlcv['open'].shift(1).values)"
      ],
      "execution_count": null,
      "outputs": [
        {
          "output_type": "execute_result",
          "data": {
            "text/plain": [
              "array([            nan,  0.00000000e+00,  3.67587462e-04, ...,\n",
              "        1.00334026e-05,  1.25115637e-03, -2.15264092e-05])"
            ]
          },
          "metadata": {
            "tags": []
          },
          "execution_count": 100
        }
      ]
    },
    {
      "cell_type": "code",
      "metadata": {
        "id": "1sH6rJsz-EJs"
      },
      "source": [
        "step = 4\n",
        "window_size = 16\n",
        "data = result_ohlcv\n",
        "\n",
        "lr_open = np.log(data['open'].values) - np.log(data['open'].shift(1).values) # aktualis - elozo erteket\n",
        "lr_low = np.log(data['low'].values) - np.log(data['low'].shift(1).values) # aktualis - elozo erteket\n",
        "lr_high = np.log(data['high'].values) - np.log(data['high'].shift(1).values) # aktualis - elozo erteket\n",
        "lr_close = np.log(data['close'].values) - np.log(data['close'].shift(1).values) # aktualis - elozo erteket\n",
        "target = data['close'].shift(-1) > data['close'] \n",
        "\n",
        "data_np = np.column_stack((lr_open, lr_high, lr_low, lr_close, target))"
      ],
      "execution_count": null,
      "outputs": []
    },
    {
      "cell_type": "code",
      "metadata": {
        "colab": {
          "base_uri": "https://localhost:8080/"
        },
        "id": "aLbUcpao-33r",
        "outputId": "a982364f-c392-4c61-a6ba-b1263ef68c97"
      },
      "source": [
        "data_np.shape"
      ],
      "execution_count": null,
      "outputs": [
        {
          "output_type": "execute_result",
          "data": {
            "text/plain": [
              "(1091, 5)"
            ]
          },
          "metadata": {
            "tags": []
          },
          "execution_count": 103
        }
      ]
    },
    {
      "cell_type": "code",
      "metadata": {
        "id": "iNtltKIO-4i0"
      },
      "source": [
        "X=[]\n",
        "Y=[]\n",
        "\n",
        "data_np = data_np[1:]\n",
        "\n",
        "for i in range(0, data.shape[0]-window_size, step):\n",
        "  X.append(data_np[i:i+window_size,:-1])\n",
        "  Y.append(data_np[i+window_size,-1])\n",
        "\n",
        "X=np.asarray(X)\n",
        "Y=np.asarray(Y)\n",
        "\n",
        "        "
      ],
      "execution_count": null,
      "outputs": []
    },
    {
      "cell_type": "code",
      "metadata": {
        "colab": {
          "base_uri": "https://localhost:8080/"
        },
        "id": "H82lrs18_VTc",
        "outputId": "4af10805-04d5-41c4-8872-8216403399a2"
      },
      "source": [
        "X.shape"
      ],
      "execution_count": null,
      "outputs": [
        {
          "output_type": "execute_result",
          "data": {
            "text/plain": [
              "(269, 16, 4)"
            ]
          },
          "metadata": {
            "tags": []
          },
          "execution_count": 107
        }
      ]
    },
    {
      "cell_type": "code",
      "metadata": {
        "colab": {
          "base_uri": "https://localhost:8080/"
        },
        "id": "RjH-KuSz_bC0",
        "outputId": "cb8044a3-95b3-4c10-c4eb-800d0584fa48"
      },
      "source": [
        "Y.shape"
      ],
      "execution_count": null,
      "outputs": [
        {
          "output_type": "execute_result",
          "data": {
            "text/plain": [
              "(269,)"
            ]
          },
          "metadata": {
            "tags": []
          },
          "execution_count": 108
        }
      ]
    },
    {
      "cell_type": "code",
      "metadata": {
        "colab": {
          "base_uri": "https://localhost:8080/",
          "height": 282
        },
        "id": "Ai-7IVpf_cNz",
        "outputId": "5f79679a-a8fd-41a7-af62-2b9141acd3ac"
      },
      "source": [
        "plt.plot(X[0,:,1])"
      ],
      "execution_count": null,
      "outputs": [
        {
          "output_type": "execute_result",
          "data": {
            "text/plain": [
              "[<matplotlib.lines.Line2D at 0x7f7e1fb43190>]"
            ]
          },
          "metadata": {
            "tags": []
          },
          "execution_count": 112
        },
        {
          "output_type": "display_data",
          "data": {
            "image/png": "[encoded data removed]",
            "text/plain": [
              "<Figure size 432x288 with 1 Axes>"
            ]
          },
          "metadata": {
            "tags": [],
            "needs_background": "light"
          }
        }
      ]
    },
    {
      "cell_type": "code",
      "metadata": {
        "colab": {
          "base_uri": "https://localhost:8080/"
        },
        "id": "E7-gSAGI_flz",
        "outputId": "3b76be1b-ed02-4539-b34c-2886008a48f4"
      },
      "source": [
        "Y[0]"
      ],
      "execution_count": null,
      "outputs": [
        {
          "output_type": "execute_result",
          "data": {
            "text/plain": [
              "0.0"
            ]
          },
          "metadata": {
            "tags": []
          },
          "execution_count": 110
        }
      ]
    },
    {
      "cell_type": "code",
      "metadata": {
        "colab": {
          "base_uri": "https://localhost:8080/",
          "height": 282
        },
        "id": "S-lLPThW_kZz",
        "outputId": "34011d27-411f-48bc-df2a-3b76a59a6792"
      },
      "source": [
        "plt.plot(X[1,:,1])"
      ],
      "execution_count": null,
      "outputs": [
        {
          "output_type": "execute_result",
          "data": {
            "text/plain": [
              "[<matplotlib.lines.Line2D at 0x7f7e1faba090>]"
            ]
          },
          "metadata": {
            "tags": []
          },
          "execution_count": 113
        },
        {
          "output_type": "display_data",
          "data": {
            "image/png": "[encoded data removed]",
            "text/plain": [
              "<Figure size 432x288 with 1 Axes>"
            ]
          },
          "metadata": {
            "tags": [],
            "needs_background": "light"
          }
        }
      ]
    },
    {
      "cell_type": "code",
      "metadata": {
        "colab": {
          "base_uri": "https://localhost:8080/"
        },
        "id": "sO8NFVqG_rs7",
        "outputId": "6fdd09e9-5be1-4b22-8d97-043a1a290db2"
      },
      "source": [
        "Y[1]"
      ],
      "execution_count": null,
      "outputs": [
        {
          "output_type": "execute_result",
          "data": {
            "text/plain": [
              "0.0"
            ]
          },
          "metadata": {
            "tags": []
          },
          "execution_count": 114
        }
      ]
    },
    {
      "cell_type": "code",
      "metadata": {
        "id": "lRpoDj-i_vQ9"
      },
      "source": [
        ""
      ],
      "execution_count": null,
      "outputs": []
    }
  ]
}